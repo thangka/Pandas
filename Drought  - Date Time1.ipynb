{
 "cells": [
  {
   "cell_type": "code",
   "execution_count": 152,
   "id": "8ff6d14c",
   "metadata": {},
   "outputs": [],
   "source": [
    "import numpy as np\n",
    "import pandas as pd"
   ]
  },
  {
   "cell_type": "code",
   "execution_count": 153,
   "id": "86eb78ab",
   "metadata": {},
   "outputs": [
    {
     "data": {
      "text/html": [
       "<div>\n",
       "<style scoped>\n",
       "    .dataframe tbody tr th:only-of-type {\n",
       "        vertical-align: middle;\n",
       "    }\n",
       "\n",
       "    .dataframe tbody tr th {\n",
       "        vertical-align: top;\n",
       "    }\n",
       "\n",
       "    .dataframe thead th {\n",
       "        text-align: right;\n",
       "    }\n",
       "</style>\n",
       "<table border=\"1\" class=\"dataframe\">\n",
       "  <thead>\n",
       "    <tr style=\"text-align: right;\">\n",
       "      <th></th>\n",
       "      <th>Year</th>\n",
       "      <th>Month</th>\n",
       "      <th>Vdate</th>\n",
       "      <th>2011</th>\n",
       "      <th>2050</th>\n",
       "      <th>2076</th>\n",
       "      <th>2093</th>\n",
       "      <th>2110</th>\n",
       "      <th>2153</th>\n",
       "      <th>2200</th>\n",
       "      <th>...</th>\n",
       "      <th>2866</th>\n",
       "      <th>2867</th>\n",
       "      <th>2869</th>\n",
       "      <th>2870</th>\n",
       "      <th>2871</th>\n",
       "      <th>2873</th>\n",
       "      <th>2875</th>\n",
       "      <th>2877</th>\n",
       "      <th>2880</th>\n",
       "      <th>2905</th>\n",
       "    </tr>\n",
       "  </thead>\n",
       "  <tbody>\n",
       "    <tr>\n",
       "      <th>0</th>\n",
       "      <td>2000</td>\n",
       "      <td>1</td>\n",
       "      <td>20001</td>\n",
       "      <td>0.560642</td>\n",
       "      <td>0.510947</td>\n",
       "      <td>0.374049</td>\n",
       "      <td>0.596291</td>\n",
       "      <td>0.530378</td>\n",
       "      <td>0.293670</td>\n",
       "      <td>0.388784</td>\n",
       "      <td>...</td>\n",
       "      <td>0.271332</td>\n",
       "      <td>0.311900</td>\n",
       "      <td>0.043555</td>\n",
       "      <td>0.279549</td>\n",
       "      <td>0.220520</td>\n",
       "      <td>0.026162</td>\n",
       "      <td>0.185642</td>\n",
       "      <td>0.346034</td>\n",
       "      <td>-0.036662</td>\n",
       "      <td>-0.147396</td>\n",
       "    </tr>\n",
       "    <tr>\n",
       "      <th>1</th>\n",
       "      <td>2000</td>\n",
       "      <td>2</td>\n",
       "      <td>20002</td>\n",
       "      <td>0.461436</td>\n",
       "      <td>0.418765</td>\n",
       "      <td>0.260567</td>\n",
       "      <td>0.499049</td>\n",
       "      <td>0.436741</td>\n",
       "      <td>0.205954</td>\n",
       "      <td>0.313370</td>\n",
       "      <td>...</td>\n",
       "      <td>0.286916</td>\n",
       "      <td>0.323427</td>\n",
       "      <td>0.030490</td>\n",
       "      <td>0.274851</td>\n",
       "      <td>0.237015</td>\n",
       "      <td>0.066710</td>\n",
       "      <td>0.171855</td>\n",
       "      <td>0.527293</td>\n",
       "      <td>0.717261</td>\n",
       "      <td>-0.164725</td>\n",
       "    </tr>\n",
       "  </tbody>\n",
       "</table>\n",
       "<p>2 rows × 178 columns</p>\n",
       "</div>"
      ],
      "text/plain": [
       "   Year  Month  Vdate      2011      2050      2076      2093      2110  \\\n",
       "0  2000      1  20001  0.560642  0.510947  0.374049  0.596291  0.530378   \n",
       "1  2000      2  20002  0.461436  0.418765  0.260567  0.499049  0.436741   \n",
       "\n",
       "       2153      2200  ...      2866      2867      2869      2870      2871  \\\n",
       "0  0.293670  0.388784  ...  0.271332  0.311900  0.043555  0.279549  0.220520   \n",
       "1  0.205954  0.313370  ...  0.286916  0.323427  0.030490  0.274851  0.237015   \n",
       "\n",
       "       2873      2875      2877      2880      2905  \n",
       "0  0.026162  0.185642  0.346034 -0.036662 -0.147396  \n",
       "1  0.066710  0.171855  0.527293  0.717261 -0.164725  \n",
       "\n",
       "[2 rows x 178 columns]"
      ]
     },
     "metadata": {},
     "output_type": "display_data"
    },
    {
     "data": {
      "text/html": [
       "<div>\n",
       "<style scoped>\n",
       "    .dataframe tbody tr th:only-of-type {\n",
       "        vertical-align: middle;\n",
       "    }\n",
       "\n",
       "    .dataframe tbody tr th {\n",
       "        vertical-align: top;\n",
       "    }\n",
       "\n",
       "    .dataframe thead th {\n",
       "        text-align: right;\n",
       "    }\n",
       "</style>\n",
       "<table border=\"1\" class=\"dataframe\">\n",
       "  <thead>\n",
       "    <tr style=\"text-align: right;\">\n",
       "      <th></th>\n",
       "      <th>Unique participation ID</th>\n",
       "      <th>TIME</th>\n",
       "      <th>Postcode</th>\n",
       "      <th>LGA</th>\n",
       "      <th>Date1_completed_survey</th>\n",
       "      <th>Day</th>\n",
       "      <th>Month</th>\n",
       "      <th>Year</th>\n",
       "      <th>YYYYMM</th>\n",
       "      <th>No.months in drought</th>\n",
       "      <th>The MAX ROW …...</th>\n",
       "      <th>Lastest month in drought</th>\n",
       "    </tr>\n",
       "  </thead>\n",
       "  <tbody>\n",
       "    <tr>\n",
       "      <th>0</th>\n",
       "      <td>1001693013</td>\n",
       "      <td>0</td>\n",
       "      <td>2795</td>\n",
       "      <td>Upper Lachlan (A)</td>\n",
       "      <td>2007-12-13</td>\n",
       "      <td>13</td>\n",
       "      <td>12</td>\n",
       "      <td>2007</td>\n",
       "      <td>200712</td>\n",
       "      <td>39.0</td>\n",
       "      <td>97.0</td>\n",
       "      <td>200712.0</td>\n",
       "    </tr>\n",
       "    <tr>\n",
       "      <th>1</th>\n",
       "      <td>1001693013</td>\n",
       "      <td>1</td>\n",
       "      <td>2795</td>\n",
       "      <td>Upper Lachlan (A)</td>\n",
       "      <td>2009-03-18</td>\n",
       "      <td>18</td>\n",
       "      <td>3</td>\n",
       "      <td>2009</td>\n",
       "      <td>20093</td>\n",
       "      <td>54.0</td>\n",
       "      <td>112.0</td>\n",
       "      <td>20093.0</td>\n",
       "    </tr>\n",
       "  </tbody>\n",
       "</table>\n",
       "</div>"
      ],
      "text/plain": [
       "   Unique participation ID  TIME  Postcode                 LGA  \\\n",
       "0               1001693013     0       2795  Upper Lachlan (A)   \n",
       "1               1001693013     1       2795  Upper Lachlan (A)   \n",
       "\n",
       "  Date1_completed_survey  Day  Month  Year  YYYYMM  No.months in drought  \\\n",
       "0             2007-12-13   13     12  2007  200712                  39.0   \n",
       "1             2009-03-18   18      3  2009   20093                  54.0   \n",
       "\n",
       "   The MAX ROW …...  Lastest month in drought  \n",
       "0              97.0                  200712.0  \n",
       "1             112.0                   20093.0  "
      ]
     },
     "metadata": {},
     "output_type": "display_data"
    }
   ],
   "source": [
    "file=r'C:\\Users\\nguye\\Downloads\\SPEI_for ARMHS_20200630.xlsx'\n",
    "data=pd.read_excel(file,sheet_name='60 Month SPEI')\n",
    "qs=pd.read_excel(file,sheet_name='60M')\n",
    "display(data.head(2),qs.head(2))"
   ]
  },
  {
   "cell_type": "code",
   "execution_count": 154,
   "id": "3a12f1ee",
   "metadata": {},
   "outputs": [
    {
     "data": {
      "text/plain": [
       "Unique participation ID     False\n",
       "TIME                        False\n",
       "Postcode                    False\n",
       "LGA                          True\n",
       "Date1_completed_survey       True\n",
       "Day                         False\n",
       "Month                       False\n",
       "Year                        False\n",
       "YYYYMM                      False\n",
       "No.months in drought         True\n",
       "The MAX ROW …...             True\n",
       "Lastest month in drought     True\n",
       "dtype: bool"
      ]
     },
     "execution_count": 154,
     "metadata": {},
     "output_type": "execute_result"
    }
   ],
   "source": [
    "qs.isna().any()"
   ]
  },
  {
   "cell_type": "code",
   "execution_count": 155,
   "id": "ac747806",
   "metadata": {},
   "outputs": [
    {
     "data": {
      "text/html": [
       "<div>\n",
       "<style scoped>\n",
       "    .dataframe tbody tr th:only-of-type {\n",
       "        vertical-align: middle;\n",
       "    }\n",
       "\n",
       "    .dataframe tbody tr th {\n",
       "        vertical-align: top;\n",
       "    }\n",
       "\n",
       "    .dataframe thead th {\n",
       "        text-align: right;\n",
       "    }\n",
       "</style>\n",
       "<table border=\"1\" class=\"dataframe\">\n",
       "  <thead>\n",
       "    <tr style=\"text-align: right;\">\n",
       "      <th></th>\n",
       "      <th>Unique participation ID</th>\n",
       "      <th>TIME</th>\n",
       "      <th>Postcode</th>\n",
       "      <th>LGA</th>\n",
       "      <th>Date1_completed_survey</th>\n",
       "      <th>Day</th>\n",
       "      <th>Month</th>\n",
       "      <th>Year</th>\n",
       "      <th>YYYYMM</th>\n",
       "      <th>No.months in drought</th>\n",
       "      <th>The MAX ROW …...</th>\n",
       "      <th>Lastest month in drought</th>\n",
       "      <th>day</th>\n",
       "      <th>month</th>\n",
       "      <th>year</th>\n",
       "      <th>ym</th>\n",
       "    </tr>\n",
       "  </thead>\n",
       "  <tbody>\n",
       "    <tr>\n",
       "      <th>0</th>\n",
       "      <td>1001693013</td>\n",
       "      <td>0</td>\n",
       "      <td>2795</td>\n",
       "      <td>Upper Lachlan (A)</td>\n",
       "      <td>2007-12-13</td>\n",
       "      <td>13</td>\n",
       "      <td>12</td>\n",
       "      <td>2007</td>\n",
       "      <td>200712</td>\n",
       "      <td>39.0</td>\n",
       "      <td>97.0</td>\n",
       "      <td>200712.0</td>\n",
       "      <td>13.0</td>\n",
       "      <td>12.0</td>\n",
       "      <td>2007.0</td>\n",
       "      <td>200712</td>\n",
       "    </tr>\n",
       "  </tbody>\n",
       "</table>\n",
       "</div>"
      ],
      "text/plain": [
       "   Unique participation ID  TIME  Postcode                 LGA  \\\n",
       "0               1001693013     0       2795  Upper Lachlan (A)   \n",
       "\n",
       "  Date1_completed_survey  Day  Month  Year  YYYYMM  No.months in drought  \\\n",
       "0             2007-12-13   13     12  2007  200712                  39.0   \n",
       "\n",
       "   The MAX ROW …...  Lastest month in drought   day  month    year      ym  \n",
       "0              97.0                  200712.0  13.0   12.0  2007.0  200712  "
      ]
     },
     "execution_count": 155,
     "metadata": {},
     "output_type": "execute_result"
    }
   ],
   "source": [
    "qs['day']=qs['Date1_completed_survey'].dt.day   ## cach 1: tach ngay/thang/nam ra cot rieng\n",
    "qs['month']=pd.DatetimeIndex(qs['Date1_completed_survey']).month   ## ## cach 2: tach ngay/thang/nam ra cot rieng\n",
    "qs['year']=qs['Date1_completed_survey'].dt.year\n",
    "qs['ym']=qs['year'].dropna().astype(int).astype(str)+qs['month'].dropna().astype(int).astype(str) ## phải bỏ N/A mới cộng string được\n",
    "qs.head(1)"
   ]
  },
  {
   "cell_type": "code",
   "execution_count": 156,
   "id": "2649e074",
   "metadata": {},
   "outputs": [
    {
     "data": {
      "text/plain": [
       "Index(['Unique participation ID', 'TIME', 'Postcode ', 'LGA',\n",
       "       'Date1_completed_survey', 'Day', 'Month', 'Year', 'YYYYMM',\n",
       "       'No.months in drought', 'The MAX ROW …...', 'Lastest month in drought',\n",
       "       'day', 'month', 'year', 'ym'],\n",
       "      dtype='object')"
      ]
     },
     "execution_count": 156,
     "metadata": {},
     "output_type": "execute_result"
    }
   ],
   "source": [
    "qs.columns   ##chu y cot Postcode co thua 1 dau cach"
   ]
  },
  {
   "cell_type": "code",
   "execution_count": 176,
   "id": "7fc0e84f",
   "metadata": {},
   "outputs": [
    {
     "data": {
      "text/html": [
       "<div>\n",
       "<style scoped>\n",
       "    .dataframe tbody tr th:only-of-type {\n",
       "        vertical-align: middle;\n",
       "    }\n",
       "\n",
       "    .dataframe tbody tr th {\n",
       "        vertical-align: top;\n",
       "    }\n",
       "\n",
       "    .dataframe thead th {\n",
       "        text-align: right;\n",
       "    }\n",
       "</style>\n",
       "<table border=\"1\" class=\"dataframe\">\n",
       "  <thead>\n",
       "    <tr style=\"text-align: right;\">\n",
       "      <th></th>\n",
       "      <th>Year</th>\n",
       "      <th>Month</th>\n",
       "      <th>2011</th>\n",
       "      <th>2050</th>\n",
       "      <th>2076</th>\n",
       "      <th>2093</th>\n",
       "      <th>2110</th>\n",
       "      <th>2153</th>\n",
       "      <th>2200</th>\n",
       "      <th>2210</th>\n",
       "      <th>...</th>\n",
       "      <th>2866</th>\n",
       "      <th>2867</th>\n",
       "      <th>2869</th>\n",
       "      <th>2870</th>\n",
       "      <th>2871</th>\n",
       "      <th>2873</th>\n",
       "      <th>2875</th>\n",
       "      <th>2877</th>\n",
       "      <th>2880</th>\n",
       "      <th>2905</th>\n",
       "    </tr>\n",
       "    <tr>\n",
       "      <th>Vdate</th>\n",
       "      <th></th>\n",
       "      <th></th>\n",
       "      <th></th>\n",
       "      <th></th>\n",
       "      <th></th>\n",
       "      <th></th>\n",
       "      <th></th>\n",
       "      <th></th>\n",
       "      <th></th>\n",
       "      <th></th>\n",
       "      <th></th>\n",
       "      <th></th>\n",
       "      <th></th>\n",
       "      <th></th>\n",
       "      <th></th>\n",
       "      <th></th>\n",
       "      <th></th>\n",
       "      <th></th>\n",
       "      <th></th>\n",
       "      <th></th>\n",
       "      <th></th>\n",
       "    </tr>\n",
       "  </thead>\n",
       "  <tbody>\n",
       "    <tr>\n",
       "      <th>20001</th>\n",
       "      <td>2000</td>\n",
       "      <td>1</td>\n",
       "      <td>0.560642</td>\n",
       "      <td>0.510947</td>\n",
       "      <td>0.374049</td>\n",
       "      <td>0.596291</td>\n",
       "      <td>0.530378</td>\n",
       "      <td>0.29367</td>\n",
       "      <td>0.388784</td>\n",
       "      <td>0.443398</td>\n",
       "      <td>...</td>\n",
       "      <td>0.271332</td>\n",
       "      <td>0.3119</td>\n",
       "      <td>0.043555</td>\n",
       "      <td>0.279549</td>\n",
       "      <td>0.22052</td>\n",
       "      <td>0.026162</td>\n",
       "      <td>0.185642</td>\n",
       "      <td>0.346034</td>\n",
       "      <td>-0.036662</td>\n",
       "      <td>-0.147396</td>\n",
       "    </tr>\n",
       "  </tbody>\n",
       "</table>\n",
       "<p>1 rows × 177 columns</p>\n",
       "</div>"
      ],
      "text/plain": [
       "       Year  Month      2011      2050      2076      2093      2110     2153  \\\n",
       "Vdate                                                                           \n",
       "20001  2000      1  0.560642  0.510947  0.374049  0.596291  0.530378  0.29367   \n",
       "\n",
       "           2200      2210  ...      2866    2867      2869      2870     2871  \\\n",
       "Vdate                      ...                                                  \n",
       "20001  0.388784  0.443398  ...  0.271332  0.3119  0.043555  0.279549  0.22052   \n",
       "\n",
       "           2873      2875      2877      2880      2905  \n",
       "Vdate                                                    \n",
       "20001  0.026162  0.185642  0.346034 -0.036662 -0.147396  \n",
       "\n",
       "[1 rows x 177 columns]"
      ]
     },
     "metadata": {},
     "output_type": "display_data"
    },
    {
     "data": {
      "text/html": [
       "<div>\n",
       "<style scoped>\n",
       "    .dataframe tbody tr th:only-of-type {\n",
       "        vertical-align: middle;\n",
       "    }\n",
       "\n",
       "    .dataframe tbody tr th {\n",
       "        vertical-align: top;\n",
       "    }\n",
       "\n",
       "    .dataframe thead th {\n",
       "        text-align: right;\n",
       "    }\n",
       "</style>\n",
       "<table border=\"1\" class=\"dataframe\">\n",
       "  <thead>\n",
       "    <tr style=\"text-align: right;\">\n",
       "      <th></th>\n",
       "      <th>unique participation id</th>\n",
       "      <th>time</th>\n",
       "      <th>postcode</th>\n",
       "      <th>lga</th>\n",
       "      <th>date1_completed_survey</th>\n",
       "      <th>day</th>\n",
       "      <th>month</th>\n",
       "      <th>year</th>\n",
       "      <th>yyyymm</th>\n",
       "      <th>no.months in drought</th>\n",
       "      <th>the max row …...</th>\n",
       "      <th>lastest month in drought</th>\n",
       "      <th>day</th>\n",
       "      <th>month</th>\n",
       "      <th>year</th>\n",
       "      <th>ym</th>\n",
       "    </tr>\n",
       "  </thead>\n",
       "  <tbody>\n",
       "    <tr>\n",
       "      <th>0</th>\n",
       "      <td>1001693013</td>\n",
       "      <td>0</td>\n",
       "      <td>2795</td>\n",
       "      <td>Upper Lachlan (A)</td>\n",
       "      <td>2007-12-13</td>\n",
       "      <td>13</td>\n",
       "      <td>12</td>\n",
       "      <td>2007</td>\n",
       "      <td>200712</td>\n",
       "      <td>39.0</td>\n",
       "      <td>97.0</td>\n",
       "      <td>200712.0</td>\n",
       "      <td>13.0</td>\n",
       "      <td>12.0</td>\n",
       "      <td>2007.0</td>\n",
       "      <td>200712</td>\n",
       "    </tr>\n",
       "  </tbody>\n",
       "</table>\n",
       "</div>"
      ],
      "text/plain": [
       "   unique participation id  time  postcode                lga  \\\n",
       "0               1001693013     0      2795  Upper Lachlan (A)   \n",
       "\n",
       "  date1_completed_survey  day  month  year  yyyymm  no.months in drought  \\\n",
       "0             2007-12-13   13     12  2007  200712                  39.0   \n",
       "\n",
       "   the max row …...  lastest month in drought   day  month    year      ym  \n",
       "0              97.0                  200712.0  13.0   12.0  2007.0  200712  "
      ]
     },
     "metadata": {},
     "output_type": "display_data"
    }
   ],
   "source": [
    "qs=qs.set_axis([i.lower().strip() for i  in qs.columns],1)\n",
    "\n",
    "display(data.head(1),qs.head(1))"
   ]
  },
  {
   "cell_type": "code",
   "execution_count": 177,
   "id": "2d3a79e0",
   "metadata": {
    "scrolled": true
   },
   "outputs": [
    {
     "ename": "AttributeError",
     "evalue": "'DataFrame' object has no attribute 'vdate'",
     "output_type": "error",
     "traceback": [
      "\u001b[1;31m---------------------------------------------------------------------------\u001b[0m",
      "\u001b[1;31mAttributeError\u001b[0m                            Traceback (most recent call last)",
      "\u001b[1;32m<ipython-input-177-972f557bffbf>\u001b[0m in \u001b[0;36m<module>\u001b[1;34m\u001b[0m\n\u001b[0;32m      4\u001b[0m         \u001b[1;32mif\u001b[0m \u001b[0mint\u001b[0m\u001b[1;33m(\u001b[0m\u001b[0mqs\u001b[0m\u001b[1;33m.\u001b[0m\u001b[0mpostcode\u001b[0m\u001b[1;33m[\u001b[0m\u001b[0my\u001b[0m\u001b[1;33m]\u001b[0m\u001b[1;33m)\u001b[0m\u001b[1;33m==\u001b[0m\u001b[0mdata\u001b[0m\u001b[1;33m.\u001b[0m\u001b[0mcolumns\u001b[0m\u001b[1;33m[\u001b[0m\u001b[0mi\u001b[0m\u001b[1;33m]\u001b[0m\u001b[1;33m:\u001b[0m\u001b[1;33m\u001b[0m\u001b[1;33m\u001b[0m\u001b[0m\n\u001b[0;32m      5\u001b[0m             \u001b[1;32mfor\u001b[0m \u001b[0mz\u001b[0m \u001b[1;32min\u001b[0m \u001b[0mrange\u001b[0m\u001b[1;33m(\u001b[0m\u001b[0mlen\u001b[0m\u001b[1;33m(\u001b[0m\u001b[0mqs\u001b[0m\u001b[1;33m.\u001b[0m\u001b[0myyyymm\u001b[0m\u001b[1;33m)\u001b[0m\u001b[1;33m)\u001b[0m\u001b[1;33m:\u001b[0m\u001b[1;33m\u001b[0m\u001b[1;33m\u001b[0m\u001b[0m\n\u001b[1;32m----> 6\u001b[1;33m                 \u001b[1;32mfor\u001b[0m \u001b[0mj\u001b[0m \u001b[1;32min\u001b[0m \u001b[0mrange\u001b[0m\u001b[1;33m(\u001b[0m\u001b[0mlen\u001b[0m\u001b[1;33m(\u001b[0m\u001b[0mdata\u001b[0m\u001b[1;33m.\u001b[0m\u001b[0mvdate\u001b[0m\u001b[1;33m)\u001b[0m\u001b[1;33m)\u001b[0m\u001b[1;33m:\u001b[0m\u001b[1;33m\u001b[0m\u001b[1;33m\u001b[0m\u001b[0m\n\u001b[0m\u001b[0;32m      7\u001b[0m                     \u001b[1;32mif\u001b[0m \u001b[0mint\u001b[0m\u001b[1;33m(\u001b[0m\u001b[0mqs\u001b[0m\u001b[1;33m.\u001b[0m\u001b[0myyyymm\u001b[0m\u001b[1;33m[\u001b[0m\u001b[0mz\u001b[0m\u001b[1;33m]\u001b[0m\u001b[1;33m)\u001b[0m\u001b[1;33m==\u001b[0m\u001b[0mint\u001b[0m\u001b[1;33m(\u001b[0m\u001b[0mdata\u001b[0m\u001b[1;33m.\u001b[0m\u001b[0mvdate\u001b[0m\u001b[1;33m[\u001b[0m\u001b[0mj\u001b[0m\u001b[1;33m]\u001b[0m\u001b[1;33m)\u001b[0m\u001b[1;33m:\u001b[0m\u001b[1;33m\u001b[0m\u001b[1;33m\u001b[0m\u001b[0m\n\u001b[0;32m      8\u001b[0m                         \u001b[0mprint\u001b[0m\u001b[1;33m(\u001b[0m\u001b[0mlen\u001b[0m\u001b[1;33m(\u001b[0m\u001b[1;33m[\u001b[0m\u001b[0mx\u001b[0m \u001b[1;32mfor\u001b[0m \u001b[0mx\u001b[0m \u001b[1;32min\u001b[0m \u001b[0mlist\u001b[0m\u001b[1;33m(\u001b[0m\u001b[0mdata\u001b[0m\u001b[1;33m.\u001b[0m\u001b[0miloc\u001b[0m\u001b[1;33m[\u001b[0m\u001b[1;33m(\u001b[0m\u001b[0mj\u001b[0m\u001b[1;33m-\u001b[0m\u001b[1;36m59\u001b[0m\u001b[1;33m)\u001b[0m\u001b[1;33m:\u001b[0m\u001b[1;33m(\u001b[0m\u001b[0mj\u001b[0m\u001b[1;33m+\u001b[0m\u001b[1;36m1\u001b[0m\u001b[1;33m)\u001b[0m\u001b[1;33m,\u001b[0m\u001b[0mi\u001b[0m\u001b[1;33m]\u001b[0m\u001b[1;33m)\u001b[0m \u001b[1;32mif\u001b[0m \u001b[0mx\u001b[0m\u001b[1;33m<\u001b[0m\u001b[1;33m-\u001b[0m\u001b[1;36m1\u001b[0m\u001b[1;33m]\u001b[0m\u001b[1;33m)\u001b[0m\u001b[1;33m)\u001b[0m\u001b[1;33m\u001b[0m\u001b[1;33m\u001b[0m\u001b[0m\n",
      "\u001b[1;32m~\\anaconda3\\lib\\site-packages\\pandas\\core\\generic.py\u001b[0m in \u001b[0;36m__getattr__\u001b[1;34m(self, name)\u001b[0m\n\u001b[0;32m   5463\u001b[0m             \u001b[1;32mif\u001b[0m \u001b[0mself\u001b[0m\u001b[1;33m.\u001b[0m\u001b[0m_info_axis\u001b[0m\u001b[1;33m.\u001b[0m\u001b[0m_can_hold_identifiers_and_holds_name\u001b[0m\u001b[1;33m(\u001b[0m\u001b[0mname\u001b[0m\u001b[1;33m)\u001b[0m\u001b[1;33m:\u001b[0m\u001b[1;33m\u001b[0m\u001b[1;33m\u001b[0m\u001b[0m\n\u001b[0;32m   5464\u001b[0m                 \u001b[1;32mreturn\u001b[0m \u001b[0mself\u001b[0m\u001b[1;33m[\u001b[0m\u001b[0mname\u001b[0m\u001b[1;33m]\u001b[0m\u001b[1;33m\u001b[0m\u001b[1;33m\u001b[0m\u001b[0m\n\u001b[1;32m-> 5465\u001b[1;33m             \u001b[1;32mreturn\u001b[0m \u001b[0mobject\u001b[0m\u001b[1;33m.\u001b[0m\u001b[0m__getattribute__\u001b[0m\u001b[1;33m(\u001b[0m\u001b[0mself\u001b[0m\u001b[1;33m,\u001b[0m \u001b[0mname\u001b[0m\u001b[1;33m)\u001b[0m\u001b[1;33m\u001b[0m\u001b[1;33m\u001b[0m\u001b[0m\n\u001b[0m\u001b[0;32m   5466\u001b[0m \u001b[1;33m\u001b[0m\u001b[0m\n\u001b[0;32m   5467\u001b[0m     \u001b[1;32mdef\u001b[0m \u001b[0m__setattr__\u001b[0m\u001b[1;33m(\u001b[0m\u001b[0mself\u001b[0m\u001b[1;33m,\u001b[0m \u001b[0mname\u001b[0m\u001b[1;33m:\u001b[0m \u001b[0mstr\u001b[0m\u001b[1;33m,\u001b[0m \u001b[0mvalue\u001b[0m\u001b[1;33m)\u001b[0m \u001b[1;33m->\u001b[0m \u001b[1;32mNone\u001b[0m\u001b[1;33m:\u001b[0m\u001b[1;33m\u001b[0m\u001b[1;33m\u001b[0m\u001b[0m\n",
      "\u001b[1;31mAttributeError\u001b[0m: 'DataFrame' object has no attribute 'vdate'"
     ]
    }
   ],
   "source": [
    "month_in_drought=[]\n",
    "for y in range(len(qs.postcode)):\n",
    "    for i in range(len(data.columns)):\n",
    "        if int(qs.postcode[y])==data.columns[i]:\n",
    "            for z in range(len(qs.yyyymm)):\n",
    "                for j in range(len(data.vdate)):\n",
    "                    if int(qs.yyyymm[z])==int(data.vdate[j]):\n",
    "                        print(len([x for x in list(data.iloc[(j-59):(j+1),i]) if x<-1]))\n",
    "                "
   ]
  },
  {
   "cell_type": "code",
   "execution_count": 158,
   "id": "8934810c",
   "metadata": {},
   "outputs": [
    {
     "data": {
      "text/html": [
       "<div>\n",
       "<style scoped>\n",
       "    .dataframe tbody tr th:only-of-type {\n",
       "        vertical-align: middle;\n",
       "    }\n",
       "\n",
       "    .dataframe tbody tr th {\n",
       "        vertical-align: top;\n",
       "    }\n",
       "\n",
       "    .dataframe thead th {\n",
       "        text-align: right;\n",
       "    }\n",
       "</style>\n",
       "<table border=\"1\" class=\"dataframe\">\n",
       "  <thead>\n",
       "    <tr style=\"text-align: right;\">\n",
       "      <th></th>\n",
       "      <th>Year</th>\n",
       "      <th>Month</th>\n",
       "      <th>2011</th>\n",
       "      <th>2050</th>\n",
       "      <th>2076</th>\n",
       "      <th>2093</th>\n",
       "      <th>2110</th>\n",
       "      <th>2153</th>\n",
       "      <th>2200</th>\n",
       "      <th>2210</th>\n",
       "      <th>...</th>\n",
       "      <th>2866</th>\n",
       "      <th>2867</th>\n",
       "      <th>2869</th>\n",
       "      <th>2870</th>\n",
       "      <th>2871</th>\n",
       "      <th>2873</th>\n",
       "      <th>2875</th>\n",
       "      <th>2877</th>\n",
       "      <th>2880</th>\n",
       "      <th>2905</th>\n",
       "    </tr>\n",
       "    <tr>\n",
       "      <th>Vdate</th>\n",
       "      <th></th>\n",
       "      <th></th>\n",
       "      <th></th>\n",
       "      <th></th>\n",
       "      <th></th>\n",
       "      <th></th>\n",
       "      <th></th>\n",
       "      <th></th>\n",
       "      <th></th>\n",
       "      <th></th>\n",
       "      <th></th>\n",
       "      <th></th>\n",
       "      <th></th>\n",
       "      <th></th>\n",
       "      <th></th>\n",
       "      <th></th>\n",
       "      <th></th>\n",
       "      <th></th>\n",
       "      <th></th>\n",
       "      <th></th>\n",
       "      <th></th>\n",
       "    </tr>\n",
       "  </thead>\n",
       "  <tbody>\n",
       "    <tr>\n",
       "      <th>20001</th>\n",
       "      <td>2000</td>\n",
       "      <td>1</td>\n",
       "      <td>0.560642</td>\n",
       "      <td>0.510947</td>\n",
       "      <td>0.374049</td>\n",
       "      <td>0.596291</td>\n",
       "      <td>0.530378</td>\n",
       "      <td>0.29367</td>\n",
       "      <td>0.388784</td>\n",
       "      <td>0.443398</td>\n",
       "      <td>...</td>\n",
       "      <td>0.271332</td>\n",
       "      <td>0.3119</td>\n",
       "      <td>0.043555</td>\n",
       "      <td>0.279549</td>\n",
       "      <td>0.22052</td>\n",
       "      <td>0.026162</td>\n",
       "      <td>0.185642</td>\n",
       "      <td>0.346034</td>\n",
       "      <td>-0.036662</td>\n",
       "      <td>-0.147396</td>\n",
       "    </tr>\n",
       "  </tbody>\n",
       "</table>\n",
       "<p>1 rows × 177 columns</p>\n",
       "</div>"
      ],
      "text/plain": [
       "       Year  Month      2011      2050      2076      2093      2110     2153  \\\n",
       "Vdate                                                                           \n",
       "20001  2000      1  0.560642  0.510947  0.374049  0.596291  0.530378  0.29367   \n",
       "\n",
       "           2200      2210  ...      2866    2867      2869      2870     2871  \\\n",
       "Vdate                      ...                                                  \n",
       "20001  0.388784  0.443398  ...  0.271332  0.3119  0.043555  0.279549  0.22052   \n",
       "\n",
       "           2873      2875      2877      2880      2905  \n",
       "Vdate                                                    \n",
       "20001  0.026162  0.185642  0.346034 -0.036662 -0.147396  \n",
       "\n",
       "[1 rows x 177 columns]"
      ]
     },
     "execution_count": 158,
     "metadata": {},
     "output_type": "execute_result"
    }
   ],
   "source": [
    "data.set_index('Vdate',inplace=True)\n",
    "data.head(1)"
   ]
  },
  {
   "cell_type": "code",
   "execution_count": 159,
   "id": "eccf44ca",
   "metadata": {},
   "outputs": [
    {
     "data": {
      "text/plain": [
       "0.560641535678601"
      ]
     },
     "execution_count": 159,
     "metadata": {},
     "output_type": "execute_result"
    }
   ],
   "source": [
    "data.at[20001,2011]"
   ]
  },
  {
   "cell_type": "code",
   "execution_count": 160,
   "id": "91a71f5c",
   "metadata": {},
   "outputs": [
    {
     "data": {
      "text/plain": [
       "-1.21558082359068"
      ]
     },
     "execution_count": 160,
     "metadata": {},
     "output_type": "execute_result"
    }
   ],
   "source": [
    "data.at[qs.yyyymm[0],qs.postcode[0]]"
   ]
  },
  {
   "cell_type": "code",
   "execution_count": 161,
   "id": "0f7be95d",
   "metadata": {},
   "outputs": [
    {
     "data": {
      "text/plain": [
       "0"
      ]
     },
     "execution_count": 161,
     "metadata": {},
     "output_type": "execute_result"
    }
   ],
   "source": [
    "qs.postcode.isna().sum()"
   ]
  },
  {
   "cell_type": "code",
   "execution_count": 167,
   "id": "180ed7ff",
   "metadata": {},
   "outputs": [
    {
     "ename": "KeyboardInterrupt",
     "evalue": "",
     "output_type": "error",
     "traceback": [
      "\u001b[1;31m---------------------------------------------------------------------------\u001b[0m",
      "\u001b[1;31mKeyboardInterrupt\u001b[0m                         Traceback (most recent call last)",
      "\u001b[1;32m<ipython-input-167-de09c27a5bfe>\u001b[0m in \u001b[0;36m<module>\u001b[1;34m\u001b[0m\n\u001b[1;32m----> 1\u001b[1;33m print([data.at[int(qs.yyyymm[i]),int(qs.postcode[j])] for i in range(len(qs.yyyymm)) for j in range(len(qs.postcode)) \n\u001b[0m\u001b[0;32m      2\u001b[0m  if qs.postcode[j] in data.columns])\n",
      "\u001b[1;32m<ipython-input-167-de09c27a5bfe>\u001b[0m in \u001b[0;36m<listcomp>\u001b[1;34m(.0)\u001b[0m\n\u001b[1;32m----> 1\u001b[1;33m print([data.at[int(qs.yyyymm[i]),int(qs.postcode[j])] for i in range(len(qs.yyyymm)) for j in range(len(qs.postcode)) \n\u001b[0m\u001b[0;32m      2\u001b[0m  if qs.postcode[j] in data.columns])\n",
      "\u001b[1;32m~\\anaconda3\\lib\\site-packages\\pandas\\core\\generic.py\u001b[0m in \u001b[0;36m__getattr__\u001b[1;34m(self, name)\u001b[0m\n\u001b[0;32m   5462\u001b[0m         \u001b[1;32melse\u001b[0m\u001b[1;33m:\u001b[0m\u001b[1;33m\u001b[0m\u001b[1;33m\u001b[0m\u001b[0m\n\u001b[0;32m   5463\u001b[0m             \u001b[1;32mif\u001b[0m \u001b[0mself\u001b[0m\u001b[1;33m.\u001b[0m\u001b[0m_info_axis\u001b[0m\u001b[1;33m.\u001b[0m\u001b[0m_can_hold_identifiers_and_holds_name\u001b[0m\u001b[1;33m(\u001b[0m\u001b[0mname\u001b[0m\u001b[1;33m)\u001b[0m\u001b[1;33m:\u001b[0m\u001b[1;33m\u001b[0m\u001b[1;33m\u001b[0m\u001b[0m\n\u001b[1;32m-> 5464\u001b[1;33m                 \u001b[1;32mreturn\u001b[0m \u001b[0mself\u001b[0m\u001b[1;33m[\u001b[0m\u001b[0mname\u001b[0m\u001b[1;33m]\u001b[0m\u001b[1;33m\u001b[0m\u001b[1;33m\u001b[0m\u001b[0m\n\u001b[0m\u001b[0;32m   5465\u001b[0m             \u001b[1;32mreturn\u001b[0m \u001b[0mobject\u001b[0m\u001b[1;33m.\u001b[0m\u001b[0m__getattribute__\u001b[0m\u001b[1;33m(\u001b[0m\u001b[0mself\u001b[0m\u001b[1;33m,\u001b[0m \u001b[0mname\u001b[0m\u001b[1;33m)\u001b[0m\u001b[1;33m\u001b[0m\u001b[1;33m\u001b[0m\u001b[0m\n\u001b[0;32m   5466\u001b[0m \u001b[1;33m\u001b[0m\u001b[0m\n",
      "\u001b[1;32m~\\anaconda3\\lib\\site-packages\\pandas\\core\\frame.py\u001b[0m in \u001b[0;36m__getitem__\u001b[1;34m(self, key)\u001b[0m\n\u001b[0;32m   3043\u001b[0m             \u001b[1;32mif\u001b[0m \u001b[0mdata\u001b[0m\u001b[1;33m.\u001b[0m\u001b[0mshape\u001b[0m\u001b[1;33m[\u001b[0m\u001b[1;36m1\u001b[0m\u001b[1;33m]\u001b[0m \u001b[1;33m==\u001b[0m \u001b[1;36m1\u001b[0m \u001b[1;32mand\u001b[0m \u001b[1;32mnot\u001b[0m \u001b[0misinstance\u001b[0m\u001b[1;33m(\u001b[0m\u001b[0mself\u001b[0m\u001b[1;33m.\u001b[0m\u001b[0mcolumns\u001b[0m\u001b[1;33m,\u001b[0m \u001b[0mMultiIndex\u001b[0m\u001b[1;33m)\u001b[0m\u001b[1;33m:\u001b[0m\u001b[1;33m\u001b[0m\u001b[1;33m\u001b[0m\u001b[0m\n\u001b[0;32m   3044\u001b[0m                 \u001b[1;31m# GH#26490 using data[key] can cause RecursionError\u001b[0m\u001b[1;33m\u001b[0m\u001b[1;33m\u001b[0m\u001b[1;33m\u001b[0m\u001b[0m\n\u001b[1;32m-> 3045\u001b[1;33m                 \u001b[0mdata\u001b[0m \u001b[1;33m=\u001b[0m \u001b[0mdata\u001b[0m\u001b[1;33m.\u001b[0m\u001b[0m_get_item_cache\u001b[0m\u001b[1;33m(\u001b[0m\u001b[0mkey\u001b[0m\u001b[1;33m)\u001b[0m\u001b[1;33m\u001b[0m\u001b[1;33m\u001b[0m\u001b[0m\n\u001b[0m\u001b[0;32m   3046\u001b[0m \u001b[1;33m\u001b[0m\u001b[0m\n\u001b[0;32m   3047\u001b[0m         \u001b[1;32mreturn\u001b[0m \u001b[0mdata\u001b[0m\u001b[1;33m\u001b[0m\u001b[1;33m\u001b[0m\u001b[0m\n",
      "\u001b[1;32m~\\anaconda3\\lib\\site-packages\\pandas\\core\\generic.py\u001b[0m in \u001b[0;36m_get_item_cache\u001b[1;34m(self, item)\u001b[0m\n\u001b[0;32m   3791\u001b[0m \u001b[1;33m\u001b[0m\u001b[0m\n\u001b[0;32m   3792\u001b[0m             \u001b[0mloc\u001b[0m \u001b[1;33m=\u001b[0m \u001b[0mself\u001b[0m\u001b[1;33m.\u001b[0m\u001b[0mcolumns\u001b[0m\u001b[1;33m.\u001b[0m\u001b[0mget_loc\u001b[0m\u001b[1;33m(\u001b[0m\u001b[0mitem\u001b[0m\u001b[1;33m)\u001b[0m\u001b[1;33m\u001b[0m\u001b[1;33m\u001b[0m\u001b[0m\n\u001b[1;32m-> 3793\u001b[1;33m             \u001b[0mvalues\u001b[0m \u001b[1;33m=\u001b[0m \u001b[0mself\u001b[0m\u001b[1;33m.\u001b[0m\u001b[0m_mgr\u001b[0m\u001b[1;33m.\u001b[0m\u001b[0miget\u001b[0m\u001b[1;33m(\u001b[0m\u001b[0mloc\u001b[0m\u001b[1;33m)\u001b[0m\u001b[1;33m\u001b[0m\u001b[1;33m\u001b[0m\u001b[0m\n\u001b[0m\u001b[0;32m   3794\u001b[0m             \u001b[0mres\u001b[0m \u001b[1;33m=\u001b[0m \u001b[0mself\u001b[0m\u001b[1;33m.\u001b[0m\u001b[0m_box_col_values\u001b[0m\u001b[1;33m(\u001b[0m\u001b[0mvalues\u001b[0m\u001b[1;33m,\u001b[0m \u001b[0mloc\u001b[0m\u001b[1;33m)\u001b[0m\u001b[1;33m.\u001b[0m\u001b[0m__finalize__\u001b[0m\u001b[1;33m(\u001b[0m\u001b[0mself\u001b[0m\u001b[1;33m)\u001b[0m\u001b[1;33m\u001b[0m\u001b[1;33m\u001b[0m\u001b[0m\n\u001b[0;32m   3795\u001b[0m \u001b[1;33m\u001b[0m\u001b[0m\n",
      "\u001b[1;32m~\\anaconda3\\lib\\site-packages\\pandas\\core\\internals\\managers.py\u001b[0m in \u001b[0;36miget\u001b[1;34m(self, i)\u001b[0m\n\u001b[0;32m   1000\u001b[0m         \u001b[0mReturn\u001b[0m \u001b[0mthe\u001b[0m \u001b[0mdata\u001b[0m \u001b[1;32mas\u001b[0m \u001b[0ma\u001b[0m \u001b[0mSingleBlockManager\u001b[0m\u001b[1;33m.\u001b[0m\u001b[1;33m\u001b[0m\u001b[1;33m\u001b[0m\u001b[0m\n\u001b[0;32m   1001\u001b[0m         \"\"\"\n\u001b[1;32m-> 1002\u001b[1;33m         \u001b[0mblock\u001b[0m \u001b[1;33m=\u001b[0m \u001b[0mself\u001b[0m\u001b[1;33m.\u001b[0m\u001b[0mblocks\u001b[0m\u001b[1;33m[\u001b[0m\u001b[0mself\u001b[0m\u001b[1;33m.\u001b[0m\u001b[0mblknos\u001b[0m\u001b[1;33m[\u001b[0m\u001b[0mi\u001b[0m\u001b[1;33m]\u001b[0m\u001b[1;33m]\u001b[0m\u001b[1;33m\u001b[0m\u001b[1;33m\u001b[0m\u001b[0m\n\u001b[0m\u001b[0;32m   1003\u001b[0m         \u001b[0mvalues\u001b[0m \u001b[1;33m=\u001b[0m \u001b[0mblock\u001b[0m\u001b[1;33m.\u001b[0m\u001b[0miget\u001b[0m\u001b[1;33m(\u001b[0m\u001b[0mself\u001b[0m\u001b[1;33m.\u001b[0m\u001b[0mblklocs\u001b[0m\u001b[1;33m[\u001b[0m\u001b[0mi\u001b[0m\u001b[1;33m]\u001b[0m\u001b[1;33m)\u001b[0m\u001b[1;33m\u001b[0m\u001b[1;33m\u001b[0m\u001b[0m\n\u001b[0;32m   1004\u001b[0m \u001b[1;33m\u001b[0m\u001b[0m\n",
      "\u001b[1;32m~\\anaconda3\\lib\\site-packages\\pandas\\core\\internals\\managers.py\u001b[0m in \u001b[0;36mblknos\u001b[1;34m(self)\u001b[0m\n\u001b[0;32m    167\u001b[0m         \u001b[1;32mif\u001b[0m \u001b[0mself\u001b[0m\u001b[1;33m.\u001b[0m\u001b[0m_blknos\u001b[0m \u001b[1;32mis\u001b[0m \u001b[1;32mNone\u001b[0m\u001b[1;33m:\u001b[0m\u001b[1;33m\u001b[0m\u001b[1;33m\u001b[0m\u001b[0m\n\u001b[0;32m    168\u001b[0m             \u001b[1;31m# Note: these can be altered by other BlockManager methods.\u001b[0m\u001b[1;33m\u001b[0m\u001b[1;33m\u001b[0m\u001b[1;33m\u001b[0m\u001b[0m\n\u001b[1;32m--> 169\u001b[1;33m             \u001b[0mself\u001b[0m\u001b[1;33m.\u001b[0m\u001b[0m_rebuild_blknos_and_blklocs\u001b[0m\u001b[1;33m(\u001b[0m\u001b[1;33m)\u001b[0m\u001b[1;33m\u001b[0m\u001b[1;33m\u001b[0m\u001b[0m\n\u001b[0m\u001b[0;32m    170\u001b[0m \u001b[1;33m\u001b[0m\u001b[0m\n\u001b[0;32m    171\u001b[0m         \u001b[1;32mreturn\u001b[0m \u001b[0mself\u001b[0m\u001b[1;33m.\u001b[0m\u001b[0m_blknos\u001b[0m\u001b[1;33m\u001b[0m\u001b[1;33m\u001b[0m\u001b[0m\n",
      "\u001b[1;32m~\\anaconda3\\lib\\site-packages\\pandas\\core\\internals\\managers.py\u001b[0m in \u001b[0;36m_rebuild_blknos_and_blklocs\u001b[1;34m(self)\u001b[0m\n\u001b[0;32m    236\u001b[0m         \u001b[0mnew_blknos\u001b[0m \u001b[1;33m=\u001b[0m \u001b[0mnp\u001b[0m\u001b[1;33m.\u001b[0m\u001b[0mempty\u001b[0m\u001b[1;33m(\u001b[0m\u001b[0mself\u001b[0m\u001b[1;33m.\u001b[0m\u001b[0mshape\u001b[0m\u001b[1;33m[\u001b[0m\u001b[1;36m0\u001b[0m\u001b[1;33m]\u001b[0m\u001b[1;33m,\u001b[0m \u001b[0mdtype\u001b[0m\u001b[1;33m=\u001b[0m\u001b[0mnp\u001b[0m\u001b[1;33m.\u001b[0m\u001b[0mintp\u001b[0m\u001b[1;33m)\u001b[0m\u001b[1;33m\u001b[0m\u001b[1;33m\u001b[0m\u001b[0m\n\u001b[0;32m    237\u001b[0m         \u001b[0mnew_blklocs\u001b[0m \u001b[1;33m=\u001b[0m \u001b[0mnp\u001b[0m\u001b[1;33m.\u001b[0m\u001b[0mempty\u001b[0m\u001b[1;33m(\u001b[0m\u001b[0mself\u001b[0m\u001b[1;33m.\u001b[0m\u001b[0mshape\u001b[0m\u001b[1;33m[\u001b[0m\u001b[1;36m0\u001b[0m\u001b[1;33m]\u001b[0m\u001b[1;33m,\u001b[0m \u001b[0mdtype\u001b[0m\u001b[1;33m=\u001b[0m\u001b[0mnp\u001b[0m\u001b[1;33m.\u001b[0m\u001b[0mintp\u001b[0m\u001b[1;33m)\u001b[0m\u001b[1;33m\u001b[0m\u001b[1;33m\u001b[0m\u001b[0m\n\u001b[1;32m--> 238\u001b[1;33m         \u001b[0mnew_blknos\u001b[0m\u001b[1;33m.\u001b[0m\u001b[0mfill\u001b[0m\u001b[1;33m(\u001b[0m\u001b[1;33m-\u001b[0m\u001b[1;36m1\u001b[0m\u001b[1;33m)\u001b[0m\u001b[1;33m\u001b[0m\u001b[1;33m\u001b[0m\u001b[0m\n\u001b[0m\u001b[0;32m    239\u001b[0m         \u001b[0mnew_blklocs\u001b[0m\u001b[1;33m.\u001b[0m\u001b[0mfill\u001b[0m\u001b[1;33m(\u001b[0m\u001b[1;33m-\u001b[0m\u001b[1;36m1\u001b[0m\u001b[1;33m)\u001b[0m\u001b[1;33m\u001b[0m\u001b[1;33m\u001b[0m\u001b[0m\n\u001b[0;32m    240\u001b[0m \u001b[1;33m\u001b[0m\u001b[0m\n",
      "\u001b[1;31mKeyboardInterrupt\u001b[0m: "
     ]
    }
   ],
   "source": [
    "[data.at[int(qs.yyyymm[i]),int(qs.postcode[j])] for i in range(len(qs.yyyymm)) for j in range(len(qs.postcode)) \n",
    " if qs.postcode[j] in data.columns]"
   ]
  },
  {
   "cell_type": "code",
   "execution_count": null,
   "id": "539d8a04",
   "metadata": {},
   "outputs": [],
   "source": []
  },
  {
   "cell_type": "code",
   "execution_count": null,
   "id": "b9e3b068",
   "metadata": {},
   "outputs": [],
   "source": []
  },
  {
   "cell_type": "code",
   "execution_count": null,
   "id": "a0ddaf32",
   "metadata": {},
   "outputs": [],
   "source": []
  },
  {
   "cell_type": "code",
   "execution_count": null,
   "id": "edc43150",
   "metadata": {},
   "outputs": [],
   "source": []
  },
  {
   "cell_type": "code",
   "execution_count": null,
   "id": "c9f366c7",
   "metadata": {},
   "outputs": [],
   "source": []
  }
 ],
 "metadata": {
  "kernelspec": {
   "display_name": "Python 3",
   "language": "python",
   "name": "python3"
  },
  "language_info": {
   "codemirror_mode": {
    "name": "ipython",
    "version": 3
   },
   "file_extension": ".py",
   "mimetype": "text/x-python",
   "name": "python",
   "nbconvert_exporter": "python",
   "pygments_lexer": "ipython3",
   "version": "3.8.8"
  }
 },
 "nbformat": 4,
 "nbformat_minor": 5
}
